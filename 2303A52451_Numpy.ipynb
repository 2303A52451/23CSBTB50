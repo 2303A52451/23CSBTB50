{
  "nbformat": 4,
  "nbformat_minor": 0,
  "metadata": {
    "colab": {
      "provenance": [],
      "authorship_tag": "ABX9TyM9gq6RgLT3aGIaCFCnHHty",
      "include_colab_link": true
    },
    "kernelspec": {
      "name": "python3",
      "display_name": "Python 3"
    },
    "language_info": {
      "name": "python"
    }
  },
  "cells": [
    {
      "cell_type": "markdown",
      "metadata": {
        "id": "view-in-github",
        "colab_type": "text"
      },
      "source": [
        "<a href=\"https://colab.research.google.com/github/2303A52451/23CSBTB50/blob/main/2303A52451_Numpy.ipynb\" target=\"_parent\"><img src=\"https://colab.research.google.com/assets/colab-badge.svg\" alt=\"Open In Colab\"/></a>"
      ]
    },
    {
      "cell_type": "code",
      "execution_count": 1,
      "metadata": {
        "colab": {
          "base_uri": "https://localhost:8080/"
        },
        "id": "2g3SrN2mWv9B",
        "outputId": "fad49bf9-578d-4c59-db5c-33ada37359ef"
      },
      "outputs": [
        {
          "output_type": "stream",
          "name": "stdout",
          "text": [
            "(1, 2, 3, 4)\n",
            "<class 'tuple'>\n"
          ]
        }
      ],
      "source": [
        "lst=(1,2,3,4)\n",
        "print(lst)\n",
        "print(type(lst))"
      ]
    },
    {
      "cell_type": "code",
      "source": [
        "lst2={1,2,3,4}\n",
        "print(lst2)\n",
        "print(type(lst2))"
      ],
      "metadata": {
        "colab": {
          "base_uri": "https://localhost:8080/"
        },
        "id": "4DaMyZl4WxC0",
        "outputId": "2d84e291-4744-489c-aaeb-1dfa07acf54b"
      },
      "execution_count": 2,
      "outputs": [
        {
          "output_type": "stream",
          "name": "stdout",
          "text": [
            "{1, 2, 3, 4}\n",
            "<class 'set'>\n"
          ]
        }
      ]
    },
    {
      "cell_type": "code",
      "source": [
        "lst3=[1,2,3,4]\n",
        "print(lst3)\n",
        "print(type(lst3))"
      ],
      "metadata": {
        "colab": {
          "base_uri": "https://localhost:8080/"
        },
        "id": "H9J7dLFtW0gc",
        "outputId": "f7c2e6c2-137c-46d6-fc1d-c0881261d5e1"
      },
      "execution_count": 3,
      "outputs": [
        {
          "output_type": "stream",
          "name": "stdout",
          "text": [
            "[1, 2, 3, 4]\n",
            "<class 'list'>\n"
          ]
        }
      ]
    },
    {
      "cell_type": "code",
      "source": [
        "lst5=\"Saathi\"\n",
        "print(lst5)\n",
        "print(type(lst5))"
      ],
      "metadata": {
        "colab": {
          "base_uri": "https://localhost:8080/"
        },
        "id": "NOuqsxjzW3rv",
        "outputId": "006345c9-0c34-46de-bddd-0be10337375c"
      },
      "execution_count": 4,
      "outputs": [
        {
          "output_type": "stream",
          "name": "stdout",
          "text": [
            "Saathi\n",
            "<class 'str'>\n"
          ]
        }
      ]
    },
    {
      "cell_type": "code",
      "source": [
        "lst6={\"a\":1,\"b\":2,\"c\":3,\"d\":4}\n",
        "print(lst6)\n",
        "print(type(lst6))"
      ],
      "metadata": {
        "colab": {
          "base_uri": "https://localhost:8080/"
        },
        "id": "IA51rFy8W7wc",
        "outputId": "e8ec78b3-8d89-4fc8-ef41-f462b216183e"
      },
      "execution_count": 5,
      "outputs": [
        {
          "output_type": "stream",
          "name": "stdout",
          "text": [
            "{'a': 1, 'b': 2, 'c': 3, 'd': 4}\n",
            "<class 'dict'>\n"
          ]
        }
      ]
    },
    {
      "cell_type": "code",
      "source": [
        "import numpy as np\n",
        "a=np.array([1,2,3,4,5,6,7,8])\n",
        "print(a)\n",
        "print(type(a))"
      ],
      "metadata": {
        "colab": {
          "base_uri": "https://localhost:8080/"
        },
        "id": "7JWyjDhQW_Ve",
        "outputId": "a2de9c45-cdc0-4a40-f298-5dc64049d6a4"
      },
      "execution_count": 6,
      "outputs": [
        {
          "output_type": "stream",
          "name": "stdout",
          "text": [
            "[1 2 3 4 5 6 7 8]\n",
            "<class 'numpy.ndarray'>\n"
          ]
        }
      ]
    }
  ]
}